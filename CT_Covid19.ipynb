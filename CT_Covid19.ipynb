{
  "nbformat": 4,
  "nbformat_minor": 0,
  "metadata": {
    "colab": {
      "name": "CT_Covid19.ipynb ",
      "provenance": [],
      "collapsed_sections": []
    },
    "kernelspec": {
      "name": "python3",
      "display_name": "Python 3"
    },
    "accelerator": "GPU"
  },
  "cells": [
    {
      "cell_type": "code",
      "metadata": {
        "id": "Jzm_PAa_mPWj",
        "colab": {
          "base_uri": "https://localhost:8080/"
        },
        "outputId": "33d10f40-71ce-4796-8009-2c011d1cd177"
      },
      "source": [
        "# Googleドライブをマウント\n",
        "from google.colab import drive\n",
        "drive.mount('/content/drive')"
      ],
      "execution_count": null,
      "outputs": [
        {
          "output_type": "stream",
          "text": [
            "Mounted at /content/drive\n"
          ],
          "name": "stdout"
        }
      ]
    },
    {
      "cell_type": "code",
      "metadata": {
        "id": "Or7v-qgrmhyx"
      },
      "source": [
        "# Google ColaboratoryでZipファイルを解凍\n",
        "from zipfile import ZipFile\n",
        "file_name = '/content/drive/My Drive/Covid19.zip'\n",
        "\n",
        "with ZipFile(file_name, 'r') as zip:\n",
        "  zip.extractall()"
      ],
      "execution_count": null,
      "outputs": []
    },
    {
      "cell_type": "code",
      "metadata": {
        "id": "dmhWMlFYm6SC",
        "colab": {
          "base_uri": "https://localhost:8080/"
        },
        "outputId": "8ec70025-5217-49ab-fd33-8c43d853a46d"
      },
      "source": [
        "%tensorflow_version 1.x\n",
        "import numpy as np\n",
        "import keras\n",
        "from keras.utils import np_utils\n",
        "from keras.models import Sequential, Model, model_from_json\n",
        "from keras.layers.convolutional import Conv2D, MaxPooling2D\n",
        "from keras.layers.core import Dense, Dropout, Activation, Flatten\n",
        "from keras.callbacks import ModelCheckpoint, EarlyStopping, TensorBoard, ReduceLROnPlateau\n",
        "from sklearn.model_selection import train_test_split\n",
        "import matplotlib.pyplot as plt\n",
        "from sklearn.metrics import roc_curve, auc\n",
        "from PIL import Image\n",
        "import glob\n",
        "%matplotlib inline"
      ],
      "execution_count": null,
      "outputs": [
        {
          "output_type": "stream",
          "text": [
            "TensorFlow 1.x selected.\n"
          ],
          "name": "stdout"
        },
        {
          "output_type": "stream",
          "text": [
            "Using TensorFlow backend.\n"
          ],
          "name": "stderr"
        }
      ]
    },
    {
      "cell_type": "code",
      "metadata": {
        "id": "TKlDebebnG-4"
      },
      "source": [
        "folder = [\"COVID\", \"non-COVID\"]\n",
        "image_size = 120\n",
        "\n",
        "X_train = []\n",
        "y_train = []\n",
        "X_test = []\n",
        "y_test = []\n",
        "\n",
        "\n",
        "for index, name in enumerate(folder):\n",
        "    dir = \"/content/Covid19/train/\" + name\n",
        "    files = glob.glob(dir + \"/*.png\")\n",
        "    for i, file in enumerate(files):\n",
        "        image = Image.open(file)\n",
        "        image = image.convert(\"RGB\")\n",
        "        image = image.resize((image_size, image_size))\n",
        "        data = np.asarray(image)\n",
        "        X_train.append(data)\n",
        "        y_train.append(index)\n",
        "        shuffle=True\n",
        "        \n",
        "        \n",
        "for index, name in enumerate(folder):\n",
        "    dir = \"/content/Covid19/validation/\" + name\n",
        "    files = glob.glob(dir + \"/*.png\")\n",
        "    for i, file in enumerate(files):\n",
        "        image = Image.open(file)\n",
        "        image = image.convert(\"RGB\")\n",
        "        image = image.resize((image_size, image_size))\n",
        "        data = np.asarray(image)\n",
        "        X_test.append(data)\n",
        "        y_test.append(index)\n",
        "        shuffle=True\n",
        "        \n",
        "        \n",
        "X_train = np.array(X_train)\n",
        "y_train = np.array(y_train)\n",
        "X_test = np.array(X_test)\n",
        "y_test = np.array(y_test)\n",
        "\n",
        "X_train = X_train.astype('float32')\n",
        "X_train = X_train / 255.0\n",
        "\n",
        "X_test = X_test.astype('float32')\n",
        "X_test = X_test / 255.0\n",
        "\n",
        "# 正解ラベルの形式を変換\n",
        "y_train = np_utils.to_categorical(y_train, 2)\n",
        "y_test = np_utils.to_categorical(y_test,2)"
      ],
      "execution_count": null,
      "outputs": []
    },
    {
      "cell_type": "code",
      "metadata": {
        "id": "0ougMZC9n6uZ"
      },
      "source": [
        "def model_train(X_train, y_train):\n",
        "    model = Sequential()\n",
        "\n",
        "    model.add(Conv2D(32, (3, 3), padding='same',input_shape=X_train.shape[1:]))\n",
        "    model.add(Activation('relu'))\n",
        "    model.add(Conv2D(32, (3, 3)))\n",
        "    model.add(Activation('relu'))\n",
        "    model.add(MaxPooling2D(pool_size=(2, 2)))\n",
        "    model.add(Dropout(0.20))\n",
        " \n",
        "    model.add(Conv2D(64, (3, 3), padding='same'))\n",
        "    model.add(Activation('relu'))\n",
        "    model.add(Conv2D(64, (3, 3)))\n",
        "    model.add(Activation('relu'))\n",
        "    model.add(MaxPooling2D(pool_size=(2, 2)))\n",
        "    model.add(Dropout(0.20))\n",
        "    \n",
        "    model.add(Conv2D(64, (3, 3), padding='same'))\n",
        "    model.add(Activation('relu'))\n",
        "    model.add(Conv2D(64, (3, 3)))\n",
        "    model.add(Activation('relu'))\n",
        "    model.add(MaxPooling2D(pool_size=(2, 2)))\n",
        "    model.add(Dropout(0.20)) \n",
        " \n",
        "    model.add(Flatten())\n",
        "    model.add(Dense(64))\n",
        "    model.add(Activation('relu'))\n",
        "    model.add(Dropout(0.5))\n",
        "    model.add(Dense(2))\n",
        "    model.add(Activation('softmax'))\n",
        "    opt = keras.optimizers.adam(lr=0.0001, decay=1e-6)\n",
        "    model.compile(loss='categorical_crossentropy',optimizer= opt,metrics=['accuracy'])\n",
        "    return model"
      ],
      "execution_count": null,
      "outputs": []
    },
    {
      "cell_type": "code",
      "metadata": {
        "id": "hmBED0WVn_Gb"
      },
      "source": [
        "def plot_history(history):\n",
        "    plt.plot(history.history['accuracy'],\"o-\",label=\"accuracy\")\n",
        "    plt.plot(history.history['val_accuracy'],\"o-\",label=\"val_acc\")\n",
        "    plt.title('model accuracy')\n",
        "    plt.xlabel('epoch')\n",
        "    plt.ylabel('accuracy')\n",
        "    plt.legend(loc=\"lower right\")\n",
        "    plt.show()\n",
        " \n",
        "    plt.plot(history.history['loss'],\"o-\",label=\"loss\",)\n",
        "    plt.plot(history.history['val_loss'],\"o-\",label=\"val_loss\")\n",
        "    plt.title('model loss')\n",
        "    plt.xlabel('epoch')\n",
        "    plt.ylabel('loss')\n",
        "    plt.legend(loc='lower right')\n",
        "    plt.show()"
      ],
      "execution_count": null,
      "outputs": []
    },
    {
      "cell_type": "code",
      "metadata": {
        "id": "C3M-RaEioCC8"
      },
      "source": [
        "#ROCを定義    \n",
        "def plot_roc(pred,y):\n",
        "    fpr, tpr, _ = roc_curve(y, pred)\n",
        "    roc_auc = auc(fpr, tpr)\n",
        "\n",
        "    plt.figure()\n",
        "    plt.plot(fpr, tpr, label='ROC curve (area = %0.2f)' % roc_auc) # %0.2fで小数点第2位まで表示を指示\n",
        "    plt.plot([0, 1], [0, 1], 'k--')\n",
        "    plt.xlim([0.0, 1.0])\n",
        "    plt.ylim([0.0, 1.05])\n",
        "    plt.xlabel('False Positive Rate')\n",
        "    plt.ylabel('True Positive Rate')\n",
        "    plt.title('Receiver Operating Characteristic (ROC)')\n",
        "    plt.legend(loc=\"lower right\")\n",
        "    plt.show()\n"
      ],
      "execution_count": null,
      "outputs": []
    },
    {
      "cell_type": "code",
      "metadata": {
        "id": "UDYXxPGooG6V",
        "colab": {
          "base_uri": "https://localhost:8080/",
          "height": 1000
        },
        "outputId": "2e16ed06-8f6b-4acf-b75c-2f2c118e19b1"
      },
      "source": [
        "if __name__ == \"__main__\":\n",
        "    model = model_train(X_train, y_train)\n",
        "    history = model.fit(X_train, y_train, \n",
        "        epochs=100,\n",
        "        batch_size=128,\n",
        "        validation_data=(X_test, y_test),\n",
        "             )\n",
        "    json_string = model.to_json()\n",
        "    open('Covid19.json', 'w').write(json_string)\n",
        "    model.save_weights('Covid19hdf5')\n",
        "    model.save(\"Covid19.h5\")\n",
        "    score = model.evaluate(X_train, y_train)\n",
        "    \n",
        "    print(\"test loss\", score[0])\n",
        "    print(\"test acc\",  score[1])\n",
        "\n",
        "    plot_history(history)\n",
        "    \n",
        "    #ROC\n",
        "    pred = model.predict(X_test)\n",
        "    pred = np.argmax(pred,axis=1)\n",
        "    y_compare = np.argmax(y_test,axis=1)\n",
        "    pred = pred[:] # Only positive cases\n",
        "    plot_roc(pred,y_compare)"
      ],
      "execution_count": null,
      "outputs": [
        {
          "output_type": "stream",
          "text": [
            "Train on 1984 samples, validate on 497 samples\n",
            "Epoch 1/100\n",
            "1984/1984 [==============================] - 6s 3ms/step - loss: 0.6914 - accuracy: 0.5146 - val_loss: 0.6867 - val_accuracy: 0.5050\n",
            "Epoch 2/100\n",
            "1984/1984 [==============================] - 2s 1ms/step - loss: 0.6759 - accuracy: 0.5852 - val_loss: 0.6721 - val_accuracy: 0.6157\n",
            "Epoch 3/100\n",
            "1984/1984 [==============================] - 2s 1ms/step - loss: 0.6534 - accuracy: 0.6058 - val_loss: 0.6421 - val_accuracy: 0.5815\n",
            "Epoch 4/100\n",
            "1984/1984 [==============================] - 2s 1ms/step - loss: 0.6223 - accuracy: 0.6492 - val_loss: 0.5967 - val_accuracy: 0.7485\n",
            "Epoch 5/100\n",
            "1984/1984 [==============================] - 2s 1ms/step - loss: 0.5908 - accuracy: 0.6820 - val_loss: 0.5752 - val_accuracy: 0.7505\n",
            "Epoch 6/100\n",
            "1984/1984 [==============================] - 2s 1ms/step - loss: 0.5847 - accuracy: 0.6885 - val_loss: 0.5868 - val_accuracy: 0.6660\n",
            "Epoch 7/100\n",
            "1984/1984 [==============================] - 3s 1ms/step - loss: 0.5784 - accuracy: 0.6840 - val_loss: 0.5637 - val_accuracy: 0.7686\n",
            "Epoch 8/100\n",
            "1984/1984 [==============================] - 3s 1ms/step - loss: 0.5427 - accuracy: 0.7303 - val_loss: 0.5170 - val_accuracy: 0.7787\n",
            "Epoch 9/100\n",
            "1984/1984 [==============================] - 3s 1ms/step - loss: 0.5138 - accuracy: 0.7606 - val_loss: 0.5159 - val_accuracy: 0.7666\n",
            "Epoch 10/100\n",
            "1984/1984 [==============================] - 3s 1ms/step - loss: 0.5190 - accuracy: 0.7606 - val_loss: 0.5165 - val_accuracy: 0.7666\n",
            "Epoch 11/100\n",
            "1984/1984 [==============================] - 3s 1ms/step - loss: 0.4966 - accuracy: 0.7732 - val_loss: 0.4779 - val_accuracy: 0.8048\n",
            "Epoch 12/100\n",
            "1984/1984 [==============================] - 3s 1ms/step - loss: 0.4764 - accuracy: 0.7742 - val_loss: 0.5113 - val_accuracy: 0.7465\n",
            "Epoch 13/100\n",
            "1984/1984 [==============================] - 3s 1ms/step - loss: 0.4632 - accuracy: 0.7893 - val_loss: 0.5093 - val_accuracy: 0.7445\n",
            "Epoch 14/100\n",
            "1984/1984 [==============================] - 2s 1ms/step - loss: 0.4633 - accuracy: 0.7989 - val_loss: 0.4740 - val_accuracy: 0.8008\n",
            "Epoch 15/100\n",
            "1984/1984 [==============================] - 2s 1ms/step - loss: 0.4580 - accuracy: 0.7928 - val_loss: 0.4422 - val_accuracy: 0.8209\n",
            "Epoch 16/100\n",
            "1984/1984 [==============================] - 2s 1ms/step - loss: 0.4341 - accuracy: 0.8120 - val_loss: 0.4429 - val_accuracy: 0.8109\n",
            "Epoch 17/100\n",
            "1984/1984 [==============================] - 2s 1ms/step - loss: 0.4333 - accuracy: 0.8004 - val_loss: 0.4412 - val_accuracy: 0.8169\n",
            "Epoch 18/100\n",
            "1984/1984 [==============================] - 2s 1ms/step - loss: 0.4377 - accuracy: 0.8039 - val_loss: 0.4308 - val_accuracy: 0.8270\n",
            "Epoch 19/100\n",
            "1984/1984 [==============================] - 2s 1ms/step - loss: 0.4219 - accuracy: 0.8226 - val_loss: 0.4893 - val_accuracy: 0.7586\n",
            "Epoch 20/100\n",
            "1984/1984 [==============================] - 2s 1ms/step - loss: 0.4084 - accuracy: 0.8221 - val_loss: 0.4038 - val_accuracy: 0.8330\n",
            "Epoch 21/100\n",
            "1984/1984 [==============================] - 2s 1ms/step - loss: 0.3950 - accuracy: 0.8367 - val_loss: 0.4170 - val_accuracy: 0.8189\n",
            "Epoch 22/100\n",
            "1984/1984 [==============================] - 2s 1ms/step - loss: 0.3694 - accuracy: 0.8412 - val_loss: 0.3884 - val_accuracy: 0.8310\n",
            "Epoch 23/100\n",
            "1984/1984 [==============================] - 2s 1ms/step - loss: 0.3880 - accuracy: 0.8372 - val_loss: 0.4323 - val_accuracy: 0.8048\n",
            "Epoch 24/100\n",
            "1984/1984 [==============================] - 2s 1ms/step - loss: 0.3824 - accuracy: 0.8281 - val_loss: 0.3995 - val_accuracy: 0.8249\n",
            "Epoch 25/100\n",
            "1984/1984 [==============================] - 2s 1ms/step - loss: 0.3625 - accuracy: 0.8377 - val_loss: 0.3710 - val_accuracy: 0.8451\n",
            "Epoch 26/100\n",
            "1984/1984 [==============================] - 2s 1ms/step - loss: 0.3736 - accuracy: 0.8417 - val_loss: 0.3985 - val_accuracy: 0.8471\n",
            "Epoch 27/100\n",
            "1984/1984 [==============================] - 2s 1ms/step - loss: 0.3630 - accuracy: 0.8443 - val_loss: 0.3468 - val_accuracy: 0.8511\n",
            "Epoch 28/100\n",
            "1984/1984 [==============================] - 2s 1ms/step - loss: 0.3317 - accuracy: 0.8533 - val_loss: 0.3820 - val_accuracy: 0.8270\n",
            "Epoch 29/100\n",
            "1984/1984 [==============================] - 2s 1ms/step - loss: 0.3298 - accuracy: 0.8589 - val_loss: 0.3279 - val_accuracy: 0.8692\n",
            "Epoch 30/100\n",
            "1984/1984 [==============================] - 2s 1ms/step - loss: 0.3254 - accuracy: 0.8654 - val_loss: 0.3629 - val_accuracy: 0.8330\n",
            "Epoch 31/100\n",
            "1984/1984 [==============================] - 2s 1ms/step - loss: 0.3439 - accuracy: 0.8548 - val_loss: 0.3420 - val_accuracy: 0.8531\n",
            "Epoch 32/100\n",
            "1984/1984 [==============================] - 2s 1ms/step - loss: 0.3233 - accuracy: 0.8619 - val_loss: 0.3201 - val_accuracy: 0.8672\n",
            "Epoch 33/100\n",
            "1984/1984 [==============================] - 2s 1ms/step - loss: 0.3019 - accuracy: 0.8750 - val_loss: 0.3154 - val_accuracy: 0.8732\n",
            "Epoch 34/100\n",
            "1984/1984 [==============================] - 2s 1ms/step - loss: 0.2910 - accuracy: 0.8866 - val_loss: 0.3229 - val_accuracy: 0.8551\n",
            "Epoch 35/100\n",
            "1984/1984 [==============================] - 2s 1ms/step - loss: 0.2700 - accuracy: 0.9012 - val_loss: 0.3335 - val_accuracy: 0.8451\n",
            "Epoch 36/100\n",
            "1984/1984 [==============================] - 3s 1ms/step - loss: 0.2689 - accuracy: 0.8886 - val_loss: 0.2802 - val_accuracy: 0.8873\n",
            "Epoch 37/100\n",
            "1984/1984 [==============================] - 2s 1ms/step - loss: 0.2655 - accuracy: 0.8851 - val_loss: 0.3018 - val_accuracy: 0.8612\n",
            "Epoch 38/100\n",
            "1984/1984 [==============================] - 2s 1ms/step - loss: 0.2563 - accuracy: 0.8947 - val_loss: 0.2792 - val_accuracy: 0.8793\n",
            "Epoch 39/100\n",
            "1984/1984 [==============================] - 2s 1ms/step - loss: 0.2488 - accuracy: 0.8977 - val_loss: 0.3889 - val_accuracy: 0.8169\n",
            "Epoch 40/100\n",
            "1984/1984 [==============================] - 2s 1ms/step - loss: 0.2966 - accuracy: 0.8679 - val_loss: 0.2835 - val_accuracy: 0.8913\n",
            "Epoch 41/100\n",
            "1984/1984 [==============================] - 2s 1ms/step - loss: 0.2449 - accuracy: 0.8936 - val_loss: 0.3089 - val_accuracy: 0.8511\n",
            "Epoch 42/100\n",
            "1984/1984 [==============================] - 2s 1ms/step - loss: 0.2388 - accuracy: 0.8987 - val_loss: 0.2711 - val_accuracy: 0.8773\n",
            "Epoch 43/100\n",
            "1984/1984 [==============================] - 2s 1ms/step - loss: 0.2305 - accuracy: 0.9032 - val_loss: 0.2383 - val_accuracy: 0.8994\n",
            "Epoch 44/100\n",
            "1984/1984 [==============================] - 2s 1ms/step - loss: 0.2307 - accuracy: 0.9108 - val_loss: 0.2271 - val_accuracy: 0.9115\n",
            "Epoch 45/100\n",
            "1984/1984 [==============================] - 2s 1ms/step - loss: 0.2093 - accuracy: 0.9163 - val_loss: 0.2390 - val_accuracy: 0.8994\n",
            "Epoch 46/100\n",
            "1984/1984 [==============================] - 2s 1ms/step - loss: 0.1984 - accuracy: 0.9189 - val_loss: 0.2299 - val_accuracy: 0.9095\n",
            "Epoch 47/100\n",
            "1984/1984 [==============================] - 2s 1ms/step - loss: 0.1989 - accuracy: 0.9183 - val_loss: 0.2502 - val_accuracy: 0.8974\n",
            "Epoch 48/100\n",
            "1984/1984 [==============================] - 2s 1ms/step - loss: 0.2030 - accuracy: 0.9143 - val_loss: 0.2671 - val_accuracy: 0.8893\n",
            "Epoch 49/100\n",
            "1984/1984 [==============================] - 2s 1ms/step - loss: 0.2028 - accuracy: 0.9183 - val_loss: 0.2851 - val_accuracy: 0.8773\n",
            "Epoch 50/100\n",
            "1984/1984 [==============================] - 2s 1ms/step - loss: 0.1937 - accuracy: 0.9214 - val_loss: 0.2267 - val_accuracy: 0.9034\n",
            "Epoch 51/100\n",
            "1984/1984 [==============================] - 2s 1ms/step - loss: 0.1874 - accuracy: 0.9224 - val_loss: 0.2215 - val_accuracy: 0.9074\n",
            "Epoch 52/100\n",
            "1984/1984 [==============================] - 2s 1ms/step - loss: 0.1695 - accuracy: 0.9289 - val_loss: 0.1978 - val_accuracy: 0.9235\n",
            "Epoch 53/100\n",
            "1984/1984 [==============================] - 2s 1ms/step - loss: 0.1751 - accuracy: 0.9259 - val_loss: 0.1902 - val_accuracy: 0.9296\n",
            "Epoch 54/100\n",
            "1984/1984 [==============================] - 2s 1ms/step - loss: 0.1733 - accuracy: 0.9269 - val_loss: 0.2054 - val_accuracy: 0.9175\n",
            "Epoch 55/100\n",
            "1984/1984 [==============================] - 2s 1ms/step - loss: 0.1695 - accuracy: 0.9309 - val_loss: 0.1847 - val_accuracy: 0.9276\n",
            "Epoch 56/100\n",
            "1984/1984 [==============================] - 2s 1ms/step - loss: 0.1789 - accuracy: 0.9269 - val_loss: 0.1887 - val_accuracy: 0.9195\n",
            "Epoch 57/100\n",
            "1984/1984 [==============================] - 2s 1ms/step - loss: 0.1501 - accuracy: 0.9365 - val_loss: 0.1940 - val_accuracy: 0.9276\n",
            "Epoch 58/100\n",
            "1984/1984 [==============================] - 2s 1ms/step - loss: 0.1543 - accuracy: 0.9380 - val_loss: 0.1761 - val_accuracy: 0.9235\n",
            "Epoch 59/100\n",
            "1984/1984 [==============================] - 2s 1ms/step - loss: 0.1433 - accuracy: 0.9390 - val_loss: 0.1717 - val_accuracy: 0.9296\n",
            "Epoch 60/100\n",
            "1984/1984 [==============================] - 2s 1ms/step - loss: 0.1530 - accuracy: 0.9360 - val_loss: 0.2394 - val_accuracy: 0.9095\n",
            "Epoch 61/100\n",
            "1984/1984 [==============================] - 2s 1ms/step - loss: 0.1465 - accuracy: 0.9385 - val_loss: 0.1779 - val_accuracy: 0.9276\n",
            "Epoch 62/100\n",
            "1984/1984 [==============================] - 2s 1ms/step - loss: 0.1407 - accuracy: 0.9435 - val_loss: 0.1827 - val_accuracy: 0.9195\n",
            "Epoch 63/100\n",
            "1984/1984 [==============================] - 2s 1ms/step - loss: 0.1350 - accuracy: 0.9446 - val_loss: 0.1618 - val_accuracy: 0.9336\n",
            "Epoch 64/100\n",
            "1984/1984 [==============================] - 2s 1ms/step - loss: 0.1288 - accuracy: 0.9466 - val_loss: 0.2022 - val_accuracy: 0.9155\n",
            "Epoch 65/100\n",
            "1984/1984 [==============================] - 2s 1ms/step - loss: 0.1305 - accuracy: 0.9420 - val_loss: 0.2181 - val_accuracy: 0.9034\n",
            "Epoch 66/100\n",
            "1984/1984 [==============================] - 2s 1ms/step - loss: 0.1404 - accuracy: 0.9400 - val_loss: 0.1518 - val_accuracy: 0.9437\n",
            "Epoch 67/100\n",
            "1984/1984 [==============================] - 2s 1ms/step - loss: 0.1176 - accuracy: 0.9506 - val_loss: 0.1618 - val_accuracy: 0.9336\n",
            "Epoch 68/100\n",
            "1984/1984 [==============================] - 2s 1ms/step - loss: 0.1332 - accuracy: 0.9501 - val_loss: 0.1626 - val_accuracy: 0.9376\n",
            "Epoch 69/100\n",
            "1984/1984 [==============================] - 2s 1ms/step - loss: 0.1329 - accuracy: 0.9435 - val_loss: 0.2189 - val_accuracy: 0.9014\n",
            "Epoch 70/100\n",
            "1984/1984 [==============================] - 2s 1ms/step - loss: 0.1282 - accuracy: 0.9466 - val_loss: 0.1414 - val_accuracy: 0.9396\n",
            "Epoch 71/100\n",
            "1984/1984 [==============================] - 2s 1ms/step - loss: 0.1220 - accuracy: 0.9461 - val_loss: 0.1402 - val_accuracy: 0.9396\n",
            "Epoch 72/100\n",
            "1984/1984 [==============================] - 2s 1ms/step - loss: 0.1034 - accuracy: 0.9602 - val_loss: 0.1553 - val_accuracy: 0.9336\n",
            "Epoch 73/100\n",
            "1984/1984 [==============================] - 2s 1ms/step - loss: 0.0983 - accuracy: 0.9597 - val_loss: 0.1448 - val_accuracy: 0.9416\n",
            "Epoch 74/100\n",
            "1984/1984 [==============================] - 2s 1ms/step - loss: 0.0974 - accuracy: 0.9592 - val_loss: 0.1412 - val_accuracy: 0.9437\n",
            "Epoch 75/100\n",
            "1984/1984 [==============================] - 2s 1ms/step - loss: 0.1067 - accuracy: 0.9541 - val_loss: 0.1515 - val_accuracy: 0.9477\n",
            "Epoch 76/100\n",
            "1984/1984 [==============================] - 2s 1ms/step - loss: 0.1163 - accuracy: 0.9546 - val_loss: 0.1651 - val_accuracy: 0.9396\n",
            "Epoch 77/100\n",
            "1984/1984 [==============================] - 2s 1ms/step - loss: 0.1341 - accuracy: 0.9415 - val_loss: 0.1662 - val_accuracy: 0.9396\n",
            "Epoch 78/100\n",
            "1984/1984 [==============================] - 2s 1ms/step - loss: 0.1168 - accuracy: 0.9526 - val_loss: 0.1975 - val_accuracy: 0.9054\n",
            "Epoch 79/100\n",
            "1984/1984 [==============================] - 2s 1ms/step - loss: 0.1018 - accuracy: 0.9612 - val_loss: 0.1472 - val_accuracy: 0.9517\n",
            "Epoch 80/100\n",
            "1984/1984 [==============================] - 2s 1ms/step - loss: 0.1012 - accuracy: 0.9572 - val_loss: 0.1336 - val_accuracy: 0.9477\n",
            "Epoch 81/100\n",
            "1984/1984 [==============================] - 2s 1ms/step - loss: 0.0949 - accuracy: 0.9612 - val_loss: 0.1358 - val_accuracy: 0.9477\n",
            "Epoch 82/100\n",
            "1984/1984 [==============================] - 2s 1ms/step - loss: 0.0824 - accuracy: 0.9617 - val_loss: 0.1266 - val_accuracy: 0.9537\n",
            "Epoch 83/100\n",
            "1984/1984 [==============================] - 2s 1ms/step - loss: 0.0793 - accuracy: 0.9688 - val_loss: 0.1269 - val_accuracy: 0.9537\n",
            "Epoch 84/100\n",
            "1984/1984 [==============================] - 2s 1ms/step - loss: 0.0932 - accuracy: 0.9617 - val_loss: 0.1731 - val_accuracy: 0.9416\n",
            "Epoch 85/100\n",
            "1984/1984 [==============================] - 2s 1ms/step - loss: 0.0826 - accuracy: 0.9662 - val_loss: 0.1329 - val_accuracy: 0.9437\n",
            "Epoch 86/100\n",
            "1984/1984 [==============================] - 2s 1ms/step - loss: 0.0866 - accuracy: 0.9647 - val_loss: 0.1317 - val_accuracy: 0.9537\n",
            "Epoch 87/100\n",
            "1984/1984 [==============================] - 2s 1ms/step - loss: 0.0717 - accuracy: 0.9708 - val_loss: 0.1295 - val_accuracy: 0.9517\n",
            "Epoch 88/100\n",
            "1984/1984 [==============================] - 2s 1ms/step - loss: 0.0892 - accuracy: 0.9662 - val_loss: 0.1256 - val_accuracy: 0.9537\n",
            "Epoch 89/100\n",
            "1984/1984 [==============================] - 2s 1ms/step - loss: 0.0708 - accuracy: 0.9718 - val_loss: 0.1638 - val_accuracy: 0.9396\n",
            "Epoch 90/100\n",
            "1984/1984 [==============================] - 2s 1ms/step - loss: 0.0716 - accuracy: 0.9703 - val_loss: 0.1420 - val_accuracy: 0.9437\n",
            "Epoch 91/100\n",
            "1984/1984 [==============================] - 2s 1ms/step - loss: 0.0769 - accuracy: 0.9698 - val_loss: 0.1211 - val_accuracy: 0.9557\n",
            "Epoch 92/100\n",
            "1984/1984 [==============================] - 2s 1ms/step - loss: 0.0730 - accuracy: 0.9667 - val_loss: 0.1230 - val_accuracy: 0.9477\n",
            "Epoch 93/100\n",
            "1984/1984 [==============================] - 2s 1ms/step - loss: 0.0778 - accuracy: 0.9677 - val_loss: 0.1293 - val_accuracy: 0.9577\n",
            "Epoch 94/100\n",
            "1984/1984 [==============================] - 2s 1ms/step - loss: 0.0666 - accuracy: 0.9758 - val_loss: 0.1156 - val_accuracy: 0.9618\n",
            "Epoch 95/100\n",
            "1984/1984 [==============================] - 2s 1ms/step - loss: 0.0616 - accuracy: 0.9718 - val_loss: 0.1156 - val_accuracy: 0.9517\n",
            "Epoch 96/100\n",
            "1984/1984 [==============================] - 2s 1ms/step - loss: 0.0685 - accuracy: 0.9733 - val_loss: 0.1155 - val_accuracy: 0.9618\n",
            "Epoch 97/100\n",
            "1984/1984 [==============================] - 2s 1ms/step - loss: 0.0712 - accuracy: 0.9682 - val_loss: 0.1324 - val_accuracy: 0.9557\n",
            "Epoch 98/100\n",
            "1984/1984 [==============================] - 2s 1ms/step - loss: 0.0616 - accuracy: 0.9793 - val_loss: 0.1172 - val_accuracy: 0.9557\n",
            "Epoch 99/100\n",
            "1984/1984 [==============================] - 2s 1ms/step - loss: 0.0584 - accuracy: 0.9768 - val_loss: 0.1159 - val_accuracy: 0.9557\n",
            "Epoch 100/100\n",
            "1984/1984 [==============================] - 2s 1ms/step - loss: 0.0588 - accuracy: 0.9778 - val_loss: 0.1355 - val_accuracy: 0.9537\n",
            "1984/1984 [==============================] - 1s 404us/step\n",
            "test loss 0.029283724984364403\n",
            "test acc 0.9919354915618896\n"
          ],
          "name": "stdout"
        },
        {
          "output_type": "display_data",
          "data": {
            "image/png": "[encoded data removed]",
            "text/plain": [
              "<Figure size 432x288 with 1 Axes>"
            ]
          },
          "metadata": {
            "tags": [],
            "needs_background": "light"
          }
        },
        {
          "output_type": "display_data",
          "data": {
            "image/png": "[encoded data removed]",
            "text/plain": [
              "<Figure size 432x288 with 1 Axes>"
            ]
          },
          "metadata": {
            "tags": [],
            "needs_background": "light"
          }
        },
        {
          "output_type": "display_data",
          "data": {
            "image/png": "[encoded data removed]",
            "text/plain": [
              "<Figure size 432x288 with 1 Axes>"
            ]
          },
          "metadata": {
            "tags": [],
            "needs_background": "light"
          }
        }
      ]
    },
    {
      "cell_type": "code",
      "metadata": {
        "id": "PltiwPAo3_ut",
        "colab": {
          "base_uri": "https://localhost:8080/"
        },
        "outputId": "28f84b8d-2887-4090-e00a-56c3df7f5dd8"
      },
      "source": [
        "model.summary()"
      ],
      "execution_count": null,
      "outputs": [
        {
          "output_type": "stream",
          "text": [
            "Model: \"sequential_2\"\n",
            "_________________________________________________________________\n",
            "Layer (type)                 Output Shape              Param #   \n",
            "=================================================================\n",
            "conv2d_7 (Conv2D)            (None, 120, 120, 32)      896       \n",
            "_________________________________________________________________\n",
            "activation_9 (Activation)    (None, 120, 120, 32)      0         \n",
            "_________________________________________________________________\n",
            "conv2d_8 (Conv2D)            (None, 118, 118, 32)      9248      \n",
            "_________________________________________________________________\n",
            "activation_10 (Activation)   (None, 118, 118, 32)      0         \n",
            "_________________________________________________________________\n",
            "max_pooling2d_4 (MaxPooling2 (None, 59, 59, 32)        0         \n",
            "_________________________________________________________________\n",
            "dropout_5 (Dropout)          (None, 59, 59, 32)        0         \n",
            "_________________________________________________________________\n",
            "conv2d_9 (Conv2D)            (None, 59, 59, 64)        18496     \n",
            "_________________________________________________________________\n",
            "activation_11 (Activation)   (None, 59, 59, 64)        0         \n",
            "_________________________________________________________________\n",
            "conv2d_10 (Conv2D)           (None, 57, 57, 64)        36928     \n",
            "_________________________________________________________________\n",
            "activation_12 (Activation)   (None, 57, 57, 64)        0         \n",
            "_________________________________________________________________\n",
            "max_pooling2d_5 (MaxPooling2 (None, 28, 28, 64)        0         \n",
            "_________________________________________________________________\n",
            "dropout_6 (Dropout)          (None, 28, 28, 64)        0         \n",
            "_________________________________________________________________\n",
            "conv2d_11 (Conv2D)           (None, 28, 28, 64)        36928     \n",
            "_________________________________________________________________\n",
            "activation_13 (Activation)   (None, 28, 28, 64)        0         \n",
            "_________________________________________________________________\n",
            "conv2d_12 (Conv2D)           (None, 26, 26, 64)        36928     \n",
            "_________________________________________________________________\n",
            "activation_14 (Activation)   (None, 26, 26, 64)        0         \n",
            "_________________________________________________________________\n",
            "max_pooling2d_6 (MaxPooling2 (None, 13, 13, 64)        0         \n",
            "_________________________________________________________________\n",
            "dropout_7 (Dropout)          (None, 13, 13, 64)        0         \n",
            "_________________________________________________________________\n",
            "flatten_2 (Flatten)          (None, 10816)             0         \n",
            "_________________________________________________________________\n",
            "dense_3 (Dense)              (None, 64)                692288    \n",
            "_________________________________________________________________\n",
            "activation_15 (Activation)   (None, 64)                0         \n",
            "_________________________________________________________________\n",
            "dropout_8 (Dropout)          (None, 64)                0         \n",
            "_________________________________________________________________\n",
            "dense_4 (Dense)              (None, 2)                 130       \n",
            "_________________________________________________________________\n",
            "activation_16 (Activation)   (None, 2)                 0         \n",
            "=================================================================\n",
            "Total params: 831,842\n",
            "Trainable params: 831,842\n",
            "Non-trainable params: 0\n",
            "_________________________________________________________________\n"
          ],
          "name": "stdout"
        }
      ]
    },
    {
      "cell_type": "code",
      "metadata": {
        "id": "C457Dmpx6oA0"
      },
      "source": [
        ""
      ],
      "execution_count": null,
      "outputs": []
    }
  ]
}